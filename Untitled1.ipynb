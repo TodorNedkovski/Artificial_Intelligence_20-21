{
 "cells": [
  {
   "cell_type": "markdown",
   "id": "portable-insurance",
   "metadata": {},
   "source": [
    "### Abstract"
   ]
  },
  {
   "cell_type": "markdown",
   "id": "romantic-serve",
   "metadata": {},
   "source": [
    "The dataset represents 10 years (1999-2008) of clinical care at 130 US hospitals and integrated delivery networks. It includes over 50 features representing patient and hospital outcomes.\n",
    "\n",
    "“<30” if the patient was readmitted in less than 30 days\n",
    "“>30” if the patient was readmitted in more than 30 days\n",
    "“No” for no record of readmission."
   ]
  },
  {
   "cell_type": "code",
   "execution_count": 56,
   "id": "regulation-central",
   "metadata": {},
   "outputs": [],
   "source": [
    "%matplotlib inline\n",
    "\n",
    "import pandas as pd\n",
    "import numpy as np\n",
    "from sklearn.model_selection import train_test_split, GridSearchCV\n",
    "from sklearn.linear_model import LogisticRegression\n",
    "from sklearn.metrics import f1_score\n",
    "import matplotlib.pyplot as plt\n",
    "from sklearn.preprocessing import MinMaxScaler\n",
    "from sklearn.svm import LinearSVC\n",
    "from sklearn.svm import SVC\n",
    "from sklearn.ensemble import RandomForestClassifier\n",
    "from sklearn.ensemble import GradientBoostingClassifier\n",
    "from sklearn import metrics\n",
    "from sklearn.metrics import classification_report"
   ]
  },
  {
   "cell_type": "code",
   "execution_count": 2,
   "id": "hungarian-chicken",
   "metadata": {},
   "outputs": [],
   "source": [
    "data = pd.read_csv(\"dataset_diabetes/diabetic_data.csv\")"
   ]
  },
  {
   "cell_type": "code",
   "execution_count": 3,
   "id": "hindu-palestine",
   "metadata": {},
   "outputs": [
    {
     "data": {
      "text/html": [
       "<div>\n",
       "<style scoped>\n",
       "    .dataframe tbody tr th:only-of-type {\n",
       "        vertical-align: middle;\n",
       "    }\n",
       "\n",
       "    .dataframe tbody tr th {\n",
       "        vertical-align: top;\n",
       "    }\n",
       "\n",
       "    .dataframe thead th {\n",
       "        text-align: right;\n",
       "    }\n",
       "</style>\n",
       "<table border=\"1\" class=\"dataframe\">\n",
       "  <thead>\n",
       "    <tr style=\"text-align: right;\">\n",
       "      <th></th>\n",
       "      <th>encounter_id</th>\n",
       "      <th>patient_nbr</th>\n",
       "      <th>race</th>\n",
       "      <th>gender</th>\n",
       "      <th>age</th>\n",
       "      <th>weight</th>\n",
       "      <th>admission_type_id</th>\n",
       "      <th>discharge_disposition_id</th>\n",
       "      <th>admission_source_id</th>\n",
       "      <th>time_in_hospital</th>\n",
       "      <th>...</th>\n",
       "      <th>citoglipton</th>\n",
       "      <th>insulin</th>\n",
       "      <th>glyburide-metformin</th>\n",
       "      <th>glipizide-metformin</th>\n",
       "      <th>glimepiride-pioglitazone</th>\n",
       "      <th>metformin-rosiglitazone</th>\n",
       "      <th>metformin-pioglitazone</th>\n",
       "      <th>change</th>\n",
       "      <th>diabetesMed</th>\n",
       "      <th>readmitted</th>\n",
       "    </tr>\n",
       "  </thead>\n",
       "  <tbody>\n",
       "    <tr>\n",
       "      <th>0</th>\n",
       "      <td>2278392</td>\n",
       "      <td>8222157</td>\n",
       "      <td>Caucasian</td>\n",
       "      <td>Female</td>\n",
       "      <td>[0-10)</td>\n",
       "      <td>?</td>\n",
       "      <td>6</td>\n",
       "      <td>25</td>\n",
       "      <td>1</td>\n",
       "      <td>1</td>\n",
       "      <td>...</td>\n",
       "      <td>No</td>\n",
       "      <td>No</td>\n",
       "      <td>No</td>\n",
       "      <td>No</td>\n",
       "      <td>No</td>\n",
       "      <td>No</td>\n",
       "      <td>No</td>\n",
       "      <td>No</td>\n",
       "      <td>No</td>\n",
       "      <td>NO</td>\n",
       "    </tr>\n",
       "    <tr>\n",
       "      <th>1</th>\n",
       "      <td>149190</td>\n",
       "      <td>55629189</td>\n",
       "      <td>Caucasian</td>\n",
       "      <td>Female</td>\n",
       "      <td>[10-20)</td>\n",
       "      <td>?</td>\n",
       "      <td>1</td>\n",
       "      <td>1</td>\n",
       "      <td>7</td>\n",
       "      <td>3</td>\n",
       "      <td>...</td>\n",
       "      <td>No</td>\n",
       "      <td>Up</td>\n",
       "      <td>No</td>\n",
       "      <td>No</td>\n",
       "      <td>No</td>\n",
       "      <td>No</td>\n",
       "      <td>No</td>\n",
       "      <td>Ch</td>\n",
       "      <td>Yes</td>\n",
       "      <td>&gt;30</td>\n",
       "    </tr>\n",
       "    <tr>\n",
       "      <th>2</th>\n",
       "      <td>64410</td>\n",
       "      <td>86047875</td>\n",
       "      <td>AfricanAmerican</td>\n",
       "      <td>Female</td>\n",
       "      <td>[20-30)</td>\n",
       "      <td>?</td>\n",
       "      <td>1</td>\n",
       "      <td>1</td>\n",
       "      <td>7</td>\n",
       "      <td>2</td>\n",
       "      <td>...</td>\n",
       "      <td>No</td>\n",
       "      <td>No</td>\n",
       "      <td>No</td>\n",
       "      <td>No</td>\n",
       "      <td>No</td>\n",
       "      <td>No</td>\n",
       "      <td>No</td>\n",
       "      <td>No</td>\n",
       "      <td>Yes</td>\n",
       "      <td>NO</td>\n",
       "    </tr>\n",
       "    <tr>\n",
       "      <th>3</th>\n",
       "      <td>500364</td>\n",
       "      <td>82442376</td>\n",
       "      <td>Caucasian</td>\n",
       "      <td>Male</td>\n",
       "      <td>[30-40)</td>\n",
       "      <td>?</td>\n",
       "      <td>1</td>\n",
       "      <td>1</td>\n",
       "      <td>7</td>\n",
       "      <td>2</td>\n",
       "      <td>...</td>\n",
       "      <td>No</td>\n",
       "      <td>Up</td>\n",
       "      <td>No</td>\n",
       "      <td>No</td>\n",
       "      <td>No</td>\n",
       "      <td>No</td>\n",
       "      <td>No</td>\n",
       "      <td>Ch</td>\n",
       "      <td>Yes</td>\n",
       "      <td>NO</td>\n",
       "    </tr>\n",
       "    <tr>\n",
       "      <th>4</th>\n",
       "      <td>16680</td>\n",
       "      <td>42519267</td>\n",
       "      <td>Caucasian</td>\n",
       "      <td>Male</td>\n",
       "      <td>[40-50)</td>\n",
       "      <td>?</td>\n",
       "      <td>1</td>\n",
       "      <td>1</td>\n",
       "      <td>7</td>\n",
       "      <td>1</td>\n",
       "      <td>...</td>\n",
       "      <td>No</td>\n",
       "      <td>Steady</td>\n",
       "      <td>No</td>\n",
       "      <td>No</td>\n",
       "      <td>No</td>\n",
       "      <td>No</td>\n",
       "      <td>No</td>\n",
       "      <td>Ch</td>\n",
       "      <td>Yes</td>\n",
       "      <td>NO</td>\n",
       "    </tr>\n",
       "    <tr>\n",
       "      <th>...</th>\n",
       "      <td>...</td>\n",
       "      <td>...</td>\n",
       "      <td>...</td>\n",
       "      <td>...</td>\n",
       "      <td>...</td>\n",
       "      <td>...</td>\n",
       "      <td>...</td>\n",
       "      <td>...</td>\n",
       "      <td>...</td>\n",
       "      <td>...</td>\n",
       "      <td>...</td>\n",
       "      <td>...</td>\n",
       "      <td>...</td>\n",
       "      <td>...</td>\n",
       "      <td>...</td>\n",
       "      <td>...</td>\n",
       "      <td>...</td>\n",
       "      <td>...</td>\n",
       "      <td>...</td>\n",
       "      <td>...</td>\n",
       "      <td>...</td>\n",
       "    </tr>\n",
       "    <tr>\n",
       "      <th>101761</th>\n",
       "      <td>443847548</td>\n",
       "      <td>100162476</td>\n",
       "      <td>AfricanAmerican</td>\n",
       "      <td>Male</td>\n",
       "      <td>[70-80)</td>\n",
       "      <td>?</td>\n",
       "      <td>1</td>\n",
       "      <td>3</td>\n",
       "      <td>7</td>\n",
       "      <td>3</td>\n",
       "      <td>...</td>\n",
       "      <td>No</td>\n",
       "      <td>Down</td>\n",
       "      <td>No</td>\n",
       "      <td>No</td>\n",
       "      <td>No</td>\n",
       "      <td>No</td>\n",
       "      <td>No</td>\n",
       "      <td>Ch</td>\n",
       "      <td>Yes</td>\n",
       "      <td>&gt;30</td>\n",
       "    </tr>\n",
       "    <tr>\n",
       "      <th>101762</th>\n",
       "      <td>443847782</td>\n",
       "      <td>74694222</td>\n",
       "      <td>AfricanAmerican</td>\n",
       "      <td>Female</td>\n",
       "      <td>[80-90)</td>\n",
       "      <td>?</td>\n",
       "      <td>1</td>\n",
       "      <td>4</td>\n",
       "      <td>5</td>\n",
       "      <td>5</td>\n",
       "      <td>...</td>\n",
       "      <td>No</td>\n",
       "      <td>Steady</td>\n",
       "      <td>No</td>\n",
       "      <td>No</td>\n",
       "      <td>No</td>\n",
       "      <td>No</td>\n",
       "      <td>No</td>\n",
       "      <td>No</td>\n",
       "      <td>Yes</td>\n",
       "      <td>NO</td>\n",
       "    </tr>\n",
       "    <tr>\n",
       "      <th>101763</th>\n",
       "      <td>443854148</td>\n",
       "      <td>41088789</td>\n",
       "      <td>Caucasian</td>\n",
       "      <td>Male</td>\n",
       "      <td>[70-80)</td>\n",
       "      <td>?</td>\n",
       "      <td>1</td>\n",
       "      <td>1</td>\n",
       "      <td>7</td>\n",
       "      <td>1</td>\n",
       "      <td>...</td>\n",
       "      <td>No</td>\n",
       "      <td>Down</td>\n",
       "      <td>No</td>\n",
       "      <td>No</td>\n",
       "      <td>No</td>\n",
       "      <td>No</td>\n",
       "      <td>No</td>\n",
       "      <td>Ch</td>\n",
       "      <td>Yes</td>\n",
       "      <td>NO</td>\n",
       "    </tr>\n",
       "    <tr>\n",
       "      <th>101764</th>\n",
       "      <td>443857166</td>\n",
       "      <td>31693671</td>\n",
       "      <td>Caucasian</td>\n",
       "      <td>Female</td>\n",
       "      <td>[80-90)</td>\n",
       "      <td>?</td>\n",
       "      <td>2</td>\n",
       "      <td>3</td>\n",
       "      <td>7</td>\n",
       "      <td>10</td>\n",
       "      <td>...</td>\n",
       "      <td>No</td>\n",
       "      <td>Up</td>\n",
       "      <td>No</td>\n",
       "      <td>No</td>\n",
       "      <td>No</td>\n",
       "      <td>No</td>\n",
       "      <td>No</td>\n",
       "      <td>Ch</td>\n",
       "      <td>Yes</td>\n",
       "      <td>NO</td>\n",
       "    </tr>\n",
       "    <tr>\n",
       "      <th>101765</th>\n",
       "      <td>443867222</td>\n",
       "      <td>175429310</td>\n",
       "      <td>Caucasian</td>\n",
       "      <td>Male</td>\n",
       "      <td>[70-80)</td>\n",
       "      <td>?</td>\n",
       "      <td>1</td>\n",
       "      <td>1</td>\n",
       "      <td>7</td>\n",
       "      <td>6</td>\n",
       "      <td>...</td>\n",
       "      <td>No</td>\n",
       "      <td>No</td>\n",
       "      <td>No</td>\n",
       "      <td>No</td>\n",
       "      <td>No</td>\n",
       "      <td>No</td>\n",
       "      <td>No</td>\n",
       "      <td>No</td>\n",
       "      <td>No</td>\n",
       "      <td>NO</td>\n",
       "    </tr>\n",
       "  </tbody>\n",
       "</table>\n",
       "<p>101766 rows × 50 columns</p>\n",
       "</div>"
      ],
      "text/plain": [
       "        encounter_id  patient_nbr             race  gender      age weight  \\\n",
       "0            2278392      8222157        Caucasian  Female   [0-10)      ?   \n",
       "1             149190     55629189        Caucasian  Female  [10-20)      ?   \n",
       "2              64410     86047875  AfricanAmerican  Female  [20-30)      ?   \n",
       "3             500364     82442376        Caucasian    Male  [30-40)      ?   \n",
       "4              16680     42519267        Caucasian    Male  [40-50)      ?   \n",
       "...              ...          ...              ...     ...      ...    ...   \n",
       "101761     443847548    100162476  AfricanAmerican    Male  [70-80)      ?   \n",
       "101762     443847782     74694222  AfricanAmerican  Female  [80-90)      ?   \n",
       "101763     443854148     41088789        Caucasian    Male  [70-80)      ?   \n",
       "101764     443857166     31693671        Caucasian  Female  [80-90)      ?   \n",
       "101765     443867222    175429310        Caucasian    Male  [70-80)      ?   \n",
       "\n",
       "        admission_type_id  discharge_disposition_id  admission_source_id  \\\n",
       "0                       6                        25                    1   \n",
       "1                       1                         1                    7   \n",
       "2                       1                         1                    7   \n",
       "3                       1                         1                    7   \n",
       "4                       1                         1                    7   \n",
       "...                   ...                       ...                  ...   \n",
       "101761                  1                         3                    7   \n",
       "101762                  1                         4                    5   \n",
       "101763                  1                         1                    7   \n",
       "101764                  2                         3                    7   \n",
       "101765                  1                         1                    7   \n",
       "\n",
       "        time_in_hospital  ... citoglipton insulin  glyburide-metformin  \\\n",
       "0                      1  ...          No      No                   No   \n",
       "1                      3  ...          No      Up                   No   \n",
       "2                      2  ...          No      No                   No   \n",
       "3                      2  ...          No      Up                   No   \n",
       "4                      1  ...          No  Steady                   No   \n",
       "...                  ...  ...         ...     ...                  ...   \n",
       "101761                 3  ...          No    Down                   No   \n",
       "101762                 5  ...          No  Steady                   No   \n",
       "101763                 1  ...          No    Down                   No   \n",
       "101764                10  ...          No      Up                   No   \n",
       "101765                 6  ...          No      No                   No   \n",
       "\n",
       "        glipizide-metformin  glimepiride-pioglitazone  \\\n",
       "0                        No                        No   \n",
       "1                        No                        No   \n",
       "2                        No                        No   \n",
       "3                        No                        No   \n",
       "4                        No                        No   \n",
       "...                     ...                       ...   \n",
       "101761                   No                        No   \n",
       "101762                   No                        No   \n",
       "101763                   No                        No   \n",
       "101764                   No                        No   \n",
       "101765                   No                        No   \n",
       "\n",
       "        metformin-rosiglitazone  metformin-pioglitazone  change diabetesMed  \\\n",
       "0                            No                      No      No          No   \n",
       "1                            No                      No      Ch         Yes   \n",
       "2                            No                      No      No         Yes   \n",
       "3                            No                      No      Ch         Yes   \n",
       "4                            No                      No      Ch         Yes   \n",
       "...                         ...                     ...     ...         ...   \n",
       "101761                       No                      No      Ch         Yes   \n",
       "101762                       No                      No      No         Yes   \n",
       "101763                       No                      No      Ch         Yes   \n",
       "101764                       No                      No      Ch         Yes   \n",
       "101765                       No                      No      No          No   \n",
       "\n",
       "       readmitted  \n",
       "0              NO  \n",
       "1             >30  \n",
       "2              NO  \n",
       "3              NO  \n",
       "4              NO  \n",
       "...           ...  \n",
       "101761        >30  \n",
       "101762         NO  \n",
       "101763         NO  \n",
       "101764         NO  \n",
       "101765         NO  \n",
       "\n",
       "[101766 rows x 50 columns]"
      ]
     },
     "execution_count": 3,
     "metadata": {},
     "output_type": "execute_result"
    }
   ],
   "source": [
    "data"
   ]
  },
  {
   "cell_type": "code",
   "execution_count": 4,
   "id": "funny-transfer",
   "metadata": {
    "scrolled": true
   },
   "outputs": [
    {
     "data": {
      "text/plain": [
       "encounter_id                 int64\n",
       "patient_nbr                  int64\n",
       "race                        object\n",
       "gender                      object\n",
       "age                         object\n",
       "weight                      object\n",
       "admission_type_id            int64\n",
       "discharge_disposition_id     int64\n",
       "admission_source_id          int64\n",
       "time_in_hospital             int64\n",
       "payer_code                  object\n",
       "medical_specialty           object\n",
       "num_lab_procedures           int64\n",
       "num_procedures               int64\n",
       "num_medications              int64\n",
       "number_outpatient            int64\n",
       "number_emergency             int64\n",
       "number_inpatient             int64\n",
       "diag_1                      object\n",
       "diag_2                      object\n",
       "diag_3                      object\n",
       "number_diagnoses             int64\n",
       "max_glu_serum               object\n",
       "A1Cresult                   object\n",
       "metformin                   object\n",
       "repaglinide                 object\n",
       "nateglinide                 object\n",
       "chlorpropamide              object\n",
       "glimepiride                 object\n",
       "acetohexamide               object\n",
       "glipizide                   object\n",
       "glyburide                   object\n",
       "tolbutamide                 object\n",
       "pioglitazone                object\n",
       "rosiglitazone               object\n",
       "acarbose                    object\n",
       "miglitol                    object\n",
       "troglitazone                object\n",
       "tolazamide                  object\n",
       "examide                     object\n",
       "citoglipton                 object\n",
       "insulin                     object\n",
       "glyburide-metformin         object\n",
       "glipizide-metformin         object\n",
       "glimepiride-pioglitazone    object\n",
       "metformin-rosiglitazone     object\n",
       "metformin-pioglitazone      object\n",
       "change                      object\n",
       "diabetesMed                 object\n",
       "readmitted                  object\n",
       "dtype: object"
      ]
     },
     "execution_count": 4,
     "metadata": {},
     "output_type": "execute_result"
    }
   ],
   "source": [
    "data.dtypes"
   ]
  },
  {
   "cell_type": "markdown",
   "id": "specified-lafayette",
   "metadata": {},
   "source": [
    "### 0.0.1 Cleaning Data "
   ]
  },
  {
   "cell_type": "code",
   "execution_count": 5,
   "id": "moved-albert",
   "metadata": {},
   "outputs": [],
   "source": [
    "data = data.drop_duplicates()"
   ]
  },
  {
   "cell_type": "code",
   "execution_count": 6,
   "id": "6ace6369",
   "metadata": {},
   "outputs": [
    {
     "data": {
      "text/plain": [
       "Index(['encounter_id', 'patient_nbr', 'race', 'gender', 'age', 'weight',\n",
       "       'admission_type_id', 'discharge_disposition_id', 'admission_source_id',\n",
       "       'time_in_hospital', 'payer_code', 'medical_specialty',\n",
       "       'num_lab_procedures', 'num_procedures', 'num_medications',\n",
       "       'number_outpatient', 'number_emergency', 'number_inpatient', 'diag_1',\n",
       "       'diag_2', 'diag_3', 'number_diagnoses', 'max_glu_serum', 'A1Cresult',\n",
       "       'metformin', 'repaglinide', 'nateglinide', 'chlorpropamide',\n",
       "       'glimepiride', 'acetohexamide', 'glipizide', 'glyburide', 'tolbutamide',\n",
       "       'pioglitazone', 'rosiglitazone', 'acarbose', 'miglitol', 'troglitazone',\n",
       "       'tolazamide', 'examide', 'citoglipton', 'insulin',\n",
       "       'glyburide-metformin', 'glipizide-metformin',\n",
       "       'glimepiride-pioglitazone', 'metformin-rosiglitazone',\n",
       "       'metformin-pioglitazone', 'change', 'diabetesMed', 'readmitted'],\n",
       "      dtype='object')"
      ]
     },
     "execution_count": 6,
     "metadata": {},
     "output_type": "execute_result"
    }
   ],
   "source": [
    "data.columns"
   ]
  },
  {
   "cell_type": "code",
   "execution_count": 7,
   "id": "bfe985b9",
   "metadata": {
    "scrolled": false
   },
   "outputs": [
    {
     "name": "stdout",
     "output_type": "stream",
     "text": [
      "metformin - 0.8035886248845391\n",
      "repaglinide - 0.9848770709274217\n",
      "nateglinide - 0.9930919953619087\n",
      "chlorpropamide - 0.9991549240414284\n",
      "glimepiride - 0.9489908220820313\n",
      "acetohexamide - 0.9999901735353655\n",
      "glipizide - 0.8753414696460508\n",
      "glyburide - 0.8953481516420022\n",
      "tolbutamide - 0.9997739913134053\n",
      "pioglitazone - 0.9279916671579899\n",
      "rosiglitazone - 0.9374545526010651\n",
      "acarbose - 0.9969734488925575\n",
      "miglitol - 0.999626594343887\n",
      "troglitazone - 0.9999705206060964\n",
      "tolazamide - 0.9996167678792524\n",
      "examide - 1.0\n",
      "citoglipton - 1.0\n",
      "insulin - 0.46560737377906175\n",
      "glyburide-metformin - 0.993062515968005\n",
      "glipizide-metformin - 0.9998722559597508\n",
      "glimepiride-pioglitazone - 0.9999901735353655\n",
      "metformin-rosiglitazone - 0.9999803470707309\n",
      "metformin-pioglitazone - 0.9999901735353655\n"
     ]
    }
   ],
   "source": [
    "for i in ['metformin', 'repaglinide', 'nateglinide', 'chlorpropamide',\n",
    "       'glimepiride', 'acetohexamide', 'glipizide', 'glyburide', 'tolbutamide',\n",
    "       'pioglitazone', 'rosiglitazone', 'acarbose', 'miglitol', 'troglitazone',\n",
    "       'tolazamide', 'examide', 'citoglipton', 'insulin',\n",
    "       'glyburide-metformin', 'glipizide-metformin',\n",
    "       'glimepiride-pioglitazone', 'metformin-rosiglitazone',\n",
    "       'metformin-pioglitazone']:\n",
    "    print(i + ' - ' +  str((data[i].value_counts()/len(data[i]))['No']))\n",
    "    \n"
   ]
  },
  {
   "cell_type": "markdown",
   "id": "8f6ef16b",
   "metadata": {},
   "source": [
    "We better drop these columns that are 95% missing."
   ]
  },
  {
   "cell_type": "code",
   "execution_count": 8,
   "id": "comparative-wellington",
   "metadata": {},
   "outputs": [],
   "source": [
    "features_drop_list = ['encounter_id', 'patient_nbr', 'weight', 'payer_code', 'medical_specialty', 'repaglinide', 'nateglinide', 'chlorpropamide', 'acetohexamide', 'tolbutamide', 'acarbose', 'miglitol', 'troglitazone', 'tolazamide', 'examide', 'citoglipton', 'glyburide-metformin', 'glipizide-metformin','glimepiride-pioglitazone', 'metformin-rosiglitazone', 'metformin-pioglitazone']"
   ]
  },
  {
   "cell_type": "code",
   "execution_count": 9,
   "id": "attempted-single",
   "metadata": {},
   "outputs": [],
   "source": [
    "data.drop(features_drop_list, axis=1,inplace=True)"
   ]
  },
  {
   "cell_type": "code",
   "execution_count": 10,
   "id": "residential-translator",
   "metadata": {},
   "outputs": [
    {
     "data": {
      "text/plain": [
       "Index(['race', 'gender', 'age', 'admission_type_id',\n",
       "       'discharge_disposition_id', 'admission_source_id', 'time_in_hospital',\n",
       "       'num_lab_procedures', 'num_procedures', 'num_medications',\n",
       "       'number_outpatient', 'number_emergency', 'number_inpatient', 'diag_1',\n",
       "       'diag_2', 'diag_3', 'number_diagnoses', 'max_glu_serum', 'A1Cresult',\n",
       "       'metformin', 'glimepiride', 'glipizide', 'glyburide', 'pioglitazone',\n",
       "       'rosiglitazone', 'insulin', 'change', 'diabetesMed', 'readmitted'],\n",
       "      dtype='object')"
      ]
     },
     "execution_count": 10,
     "metadata": {},
     "output_type": "execute_result"
    }
   ],
   "source": [
    "data.columns"
   ]
  },
  {
   "cell_type": "code",
   "execution_count": 11,
   "id": "civil-civilian",
   "metadata": {},
   "outputs": [],
   "source": [
    "data = data[data['race'] != '?']"
   ]
  },
  {
   "cell_type": "code",
   "execution_count": 12,
   "id": "suspended-procedure",
   "metadata": {},
   "outputs": [],
   "source": [
    "data = data[data['gender'] != 'Unknown/Invalid']"
   ]
  },
  {
   "cell_type": "code",
   "execution_count": 13,
   "id": "mathematical-defense",
   "metadata": {},
   "outputs": [],
   "source": [
    "data['age'] = data['age'].replace('[0-10)', 5)\n",
    "data['age'] = data['age'].replace('[10-20)', 15)\n",
    "data['age'] = data['age'].replace('[20-30)', 25)\n",
    "data['age'] = data['age'].replace('[30-40)', 35)\n",
    "data['age'] = data['age'].replace('[40-50)', 45)\n",
    "data['age'] = data['age'].replace('[50-60)', 55)\n",
    "data['age'] = data['age'].replace('[60-70)', 65)\n",
    "data['age'] = data['age'].replace('[70-80)', 75)\n",
    "data['age'] = data['age'].replace('[80-90)', 85)\n",
    "data['age'] = data['age'].replace('[90-100)', 95)"
   ]
  },
  {
   "cell_type": "code",
   "execution_count": 14,
   "id": "metropolitan-pharmacy",
   "metadata": {},
   "outputs": [],
   "source": [
    "data = data[data['diag_1'] != '?']\n",
    "data = data[data['diag_2'] != '?']\n",
    "data = data[data['diag_3'] != '?']"
   ]
  },
  {
   "cell_type": "markdown",
   "id": "banner-merchandise",
   "metadata": {},
   "source": [
    "### 0.0.2 Data Analysis"
   ]
  },
  {
   "cell_type": "code",
   "execution_count": 15,
   "id": "female-virus",
   "metadata": {},
   "outputs": [],
   "source": [
    "greater_readmitted = data[data['readmitted'] == '>30']\n",
    "low_readmitted = data[data['readmitted'] == '<30']\n",
    "not_readmitted = data[data['readmitted'] == 'NO']"
   ]
  },
  {
   "cell_type": "code",
   "execution_count": 16,
   "id": "excited-wagner",
   "metadata": {},
   "outputs": [
    {
     "data": {
      "image/png": "[encoded data removed]",
      "text/plain": [
       "<Figure size 432x288 with 1 Axes>"
      ]
     },
     "metadata": {},
     "output_type": "display_data"
    }
   ],
   "source": [
    "plt.pie(data['readmitted'].value_counts(), autopct='%1.0f%%', labels=['>30', '<30', 'Not'])\n",
    "plt.title('readmitted')\n",
    "plt.show()"
   ]
  },
  {
   "cell_type": "code",
   "execution_count": 17,
   "id": "competitive-hampshire",
   "metadata": {},
   "outputs": [
    {
     "data": {
      "image/png": "[encoded data removed]",
      "text/plain": [
       "<Figure size 1440x288 with 3 Axes>"
      ]
     },
     "metadata": {},
     "output_type": "display_data"
    }
   ],
   "source": [
    "fig, ax = plt.subplots(1, 3,figsize=(20, 4), subplot_kw=dict(aspect=\"equal\"))\n",
    "ax[0].pie(data['metformin'].value_counts(), autopct='%1.0f%%', labels=['No', 'Steady', 'Up', 'Down'])\n",
    "ax[0].set_title('metformin Dosage')\n",
    "ax[1].pie(data['glipizide'].value_counts(), autopct='%1.0f%%', labels=['No', 'Steady', 'Up', 'Down'])\n",
    "ax[1].set_title('glipizide Dosage')\n",
    "ax[2].pie(data['insulin'].value_counts(), autopct='%1.0f%%', labels=['No', 'Steady', 'Down', 'Up'])\n",
    "ax[2].set_title('insulin Dosage')\n",
    "\n",
    "fig.suptitle('Drugs Dosage Changes During Encounter')\n",
    "plt.show()"
   ]
  },
  {
   "cell_type": "code",
   "execution_count": 18,
   "id": "coated-century",
   "metadata": {},
   "outputs": [
    {
     "data": {
      "image/png": "[encoded data removed]",
      "text/plain": [
       "<Figure size 1440x288 with 3 Axes>"
      ]
     },
     "metadata": {},
     "output_type": "display_data"
    }
   ],
   "source": [
    "fig, ax = plt.subplots(1, 3,figsize=(20, 4), subplot_kw=dict(aspect=\"equal\"))\n",
    "ax[0].pie(greater_readmitted['metformin'].value_counts(), autopct='%1.0f%%', labels=['No', 'Steady', 'Up', 'Down'])\n",
    "ax[0].set_title('metformin Dosage')\n",
    "ax[1].pie(greater_readmitted['glipizide'].value_counts(), autopct='%1.0f%%', labels=['No', 'Steady', 'Up', 'Down'])\n",
    "ax[1].set_title('glipizide Dosage')\n",
    "ax[2].pie(greater_readmitted['insulin'].value_counts(), autopct='%1.0f%%', labels=['No', 'Steady', 'Down', 'Up'])\n",
    "ax[2].set_title('insulin Dosage')\n",
    "\n",
    "fig.suptitle('Drugs Dosage Changes During Encounter')\n",
    "plt.show()"
   ]
  },
  {
   "cell_type": "code",
   "execution_count": 19,
   "id": "quality-friendship",
   "metadata": {},
   "outputs": [
    {
     "data": {
      "image/png": "[encoded data removed]",
      "text/plain": [
       "<Figure size 1440x288 with 3 Axes>"
      ]
     },
     "metadata": {},
     "output_type": "display_data"
    }
   ],
   "source": [
    "fig, ax = plt.subplots(1, 3,figsize=(20, 4), subplot_kw=dict(aspect=\"equal\"))\n",
    "ax[0].pie(low_readmitted['metformin'].value_counts(), autopct='%1.0f%%', labels=['No', 'Steady', 'Up', 'Down'])\n",
    "ax[0].set_title('metformin Dosage')\n",
    "ax[1].pie(low_readmitted['glipizide'].value_counts(), autopct='%1.0f%%', labels=['No', 'Steady', 'Up', 'Down'])\n",
    "ax[1].set_title('glipizide Dosage')\n",
    "ax[2].pie(low_readmitted['insulin'].value_counts(), autopct='%1.0f%%', labels=['No', 'Steady', 'Down', 'Up'])\n",
    "ax[2].set_title('insulin Dosage')\n",
    "\n",
    "fig.suptitle('Drugs Dosage Changes During Encounter')\n",
    "plt.show()"
   ]
  },
  {
   "cell_type": "code",
   "execution_count": 20,
   "id": "patient-wisconsin",
   "metadata": {},
   "outputs": [
    {
     "data": {
      "image/png": "[encoded data removed]",
      "text/plain": [
       "<Figure size 1440x288 with 3 Axes>"
      ]
     },
     "metadata": {},
     "output_type": "display_data"
    }
   ],
   "source": [
    "fig, ax = plt.subplots(1, 3,figsize=(20, 4), subplot_kw=dict(aspect=\"equal\"))\n",
    "ax[0].pie(not_readmitted['metformin'].value_counts(), autopct='%1.0f%%', labels=['No', 'Steady', 'Up', 'Down'])\n",
    "ax[0].set_title('metformin Dosage')\n",
    "ax[1].pie(not_readmitted['glipizide'].value_counts(), autopct='%1.0f%%', labels=['No', 'Steady', 'Up', 'Down'])\n",
    "ax[1].set_title('glipizide Dosage')\n",
    "ax[2].pie(not_readmitted['insulin'].value_counts(), autopct='%1.0f%%', labels=['No', 'Steady', 'Down', 'Up'])\n",
    "ax[2].set_title('insulin Dosage')\n",
    "\n",
    "fig.suptitle('Drugs Dosage Changes During Encounter')\n",
    "plt.show()"
   ]
  },
  {
   "cell_type": "markdown",
   "id": "dac7171d",
   "metadata": {},
   "source": [
    "We can see that there is no change in the dosage nor readmition"
   ]
  },
  {
   "cell_type": "code",
   "execution_count": 21,
   "id": "497651fa",
   "metadata": {},
   "outputs": [
    {
     "data": {
      "image/png": "[encoded data removed]",
      "text/plain": [
       "<Figure size 1440x288 with 3 Axes>"
      ]
     },
     "metadata": {},
     "output_type": "display_data"
    }
   ],
   "source": [
    "fig, ax = plt.subplots(1, 3,figsize=(20, 4), subplot_kw=dict(aspect=\"equal\"))\n",
    "\n",
    "ax[0].pie(not_readmitted['gender'].value_counts(), autopct='%1.0f%%', labels=['Female', 'Male'])\n",
    "ax[0].set_title('not_readmitted')\n",
    "ax[1].pie(greater_readmitted['gender'].value_counts(), autopct='%1.0f%%', labels=['Female', 'Male'])\n",
    "ax[1].set_title('readmitted (>30)')\n",
    "ax[2].pie(low_readmitted['gender'].value_counts(), autopct='%1.0f%%', labels=['Female', 'Male'])\n",
    "ax[2].set_title('readmitted (<30)')\n",
    "\n",
    "plt.show()"
   ]
  },
  {
   "cell_type": "code",
   "execution_count": 22,
   "id": "familiar-assumption",
   "metadata": {},
   "outputs": [],
   "source": [
    "greater_readmitted = data[data['readmitted'] == '>30']\n",
    "low_readmitted = data[data['readmitted'] == '<30']\n",
    "not_readmitted = data[data['readmitted'] == 'NO']"
   ]
  },
  {
   "cell_type": "code",
   "execution_count": 110,
   "id": "determined-union",
   "metadata": {},
   "outputs": [
    {
     "data": {
      "image/png": "[encoded data removed]",
      "text/plain": [
       "<Figure size 936x360 with 2 Axes>"
      ]
     },
     "metadata": {
      "needs_background": "light"
     },
     "output_type": "display_data"
    }
   ],
   "source": [
    "fig, ax = plt.subplots(1, 2, figsize=(13, 5))\n",
    "\n",
    "ax[0].hist(not_readmitted['age'])\n",
    "ax[0].hist(greater_readmitted['age'])\n",
    "ax[0].hist(low_readmitted['age'])\n",
    "\n",
    "f = not_readmitted.groupby('race').count().sort_values(by='gender', ascending=False).iloc[:,1]\n",
    "g = greater_readmitted.groupby('race').count().sort_values(by='gender', ascending=False).iloc[:,1]\n",
    "b = low_readmitted.groupby('race').count().sort_values(by='gender', ascending=False).iloc[:,1]\n",
    "\n",
    "bar_width = 0.2\n",
    "x = np.arange(len(f.keys()))\n",
    "\n",
    "rects1 = ax[1].bar(x, f.values, label='not_readmitted', width=bar_width)\n",
    "rects2 = ax[1].bar(x + bar_width, g.values, label='readmitted (>30)', width=bar_width)\n",
    "rects2 = ax[1].bar(x + 2*bar_width, b.values, label='readmitted (<30)', width=bar_width)\n",
    "\n",
    "ax[1].set_xticks(x + bar_width / 2)\n",
    "ax[1].set_xticklabels(f.keys())\n",
    "\n",
    "ax[1].set_ylabel('Scores')\n",
    "ax[1].set_title('Scores by group and gender')\n",
    "ax[1].legend()\n",
    "\n",
    "fig.tight_layout()\n",
    "plt.show()"
   ]
  },
  {
   "cell_type": "markdown",
   "id": "ultimate-indonesian",
   "metadata": {},
   "source": [
    "### 0.0.3 Data modeling"
   ]
  },
  {
   "cell_type": "markdown",
   "id": "21428414",
   "metadata": {},
   "source": [
    "It's good idea to merge two of the labels and make it binary classification problem"
   ]
  },
  {
   "cell_type": "code",
   "execution_count": 141,
   "id": "american-plymouth",
   "metadata": {},
   "outputs": [],
   "source": [
    "#data = data[:20000]\n",
    "data['readmitted'] = data['readmitted'].replace({'<30': 'YES', '>30': 'YES'})"
   ]
  },
  {
   "cell_type": "code",
   "execution_count": 142,
   "id": "preceding-klein",
   "metadata": {},
   "outputs": [],
   "source": [
    "bank_features, bank_labels = None, None\n",
    "\n",
    "bank_labels = data['readmitted'].map({'NO': False,'YES': True})\n",
    "bank_features = pd.get_dummies(data.drop('readmitted', axis = 1))"
   ]
  },
  {
   "cell_type": "code",
   "execution_count": 143,
   "id": "standard-kansas",
   "metadata": {},
   "outputs": [],
   "source": [
    "features_train, labels_train = None, None\n",
    "features_test, labels_test = None, None\n",
    "\n",
    "train_test_split_result = train_test_split(bank_features, bank_labels, train_size = 0.5)\n",
    "\n",
    "labels_train = train_test_split_result[2]\n",
    "features_train = train_test_split_result[0]\n",
    "labels_test = train_test_split_result[3]\n",
    "features_test = train_test_split_result[1]"
   ]
  },
  {
   "cell_type": "code",
   "execution_count": 144,
   "id": "permanent-harrison",
   "metadata": {},
   "outputs": [
    {
     "data": {
      "text/html": [
       "<div>\n",
       "<style scoped>\n",
       "    .dataframe tbody tr th:only-of-type {\n",
       "        vertical-align: middle;\n",
       "    }\n",
       "\n",
       "    .dataframe tbody tr th {\n",
       "        vertical-align: top;\n",
       "    }\n",
       "\n",
       "    .dataframe thead th {\n",
       "        text-align: right;\n",
       "    }\n",
       "</style>\n",
       "<table border=\"1\" class=\"dataframe\">\n",
       "  <thead>\n",
       "    <tr style=\"text-align: right;\">\n",
       "      <th></th>\n",
       "      <th>age</th>\n",
       "      <th>admission_type_id</th>\n",
       "      <th>discharge_disposition_id</th>\n",
       "      <th>admission_source_id</th>\n",
       "      <th>time_in_hospital</th>\n",
       "      <th>num_lab_procedures</th>\n",
       "      <th>num_procedures</th>\n",
       "      <th>num_medications</th>\n",
       "      <th>number_outpatient</th>\n",
       "      <th>number_emergency</th>\n",
       "      <th>...</th>\n",
       "      <th>rosiglitazone_Steady</th>\n",
       "      <th>rosiglitazone_Up</th>\n",
       "      <th>insulin_Down</th>\n",
       "      <th>insulin_No</th>\n",
       "      <th>insulin_Steady</th>\n",
       "      <th>insulin_Up</th>\n",
       "      <th>change_Ch</th>\n",
       "      <th>change_No</th>\n",
       "      <th>diabetesMed_No</th>\n",
       "      <th>diabetesMed_Yes</th>\n",
       "    </tr>\n",
       "  </thead>\n",
       "  <tbody>\n",
       "    <tr>\n",
       "      <th>42237</th>\n",
       "      <td>65</td>\n",
       "      <td>3</td>\n",
       "      <td>1</td>\n",
       "      <td>7</td>\n",
       "      <td>5</td>\n",
       "      <td>1</td>\n",
       "      <td>2</td>\n",
       "      <td>7</td>\n",
       "      <td>0</td>\n",
       "      <td>0</td>\n",
       "      <td>...</td>\n",
       "      <td>0</td>\n",
       "      <td>0</td>\n",
       "      <td>0</td>\n",
       "      <td>1</td>\n",
       "      <td>0</td>\n",
       "      <td>0</td>\n",
       "      <td>0</td>\n",
       "      <td>1</td>\n",
       "      <td>0</td>\n",
       "      <td>1</td>\n",
       "    </tr>\n",
       "    <tr>\n",
       "      <th>4937</th>\n",
       "      <td>75</td>\n",
       "      <td>1</td>\n",
       "      <td>6</td>\n",
       "      <td>7</td>\n",
       "      <td>3</td>\n",
       "      <td>62</td>\n",
       "      <td>0</td>\n",
       "      <td>14</td>\n",
       "      <td>0</td>\n",
       "      <td>0</td>\n",
       "      <td>...</td>\n",
       "      <td>0</td>\n",
       "      <td>0</td>\n",
       "      <td>0</td>\n",
       "      <td>0</td>\n",
       "      <td>1</td>\n",
       "      <td>0</td>\n",
       "      <td>1</td>\n",
       "      <td>0</td>\n",
       "      <td>0</td>\n",
       "      <td>1</td>\n",
       "    </tr>\n",
       "    <tr>\n",
       "      <th>11119</th>\n",
       "      <td>75</td>\n",
       "      <td>3</td>\n",
       "      <td>18</td>\n",
       "      <td>1</td>\n",
       "      <td>10</td>\n",
       "      <td>51</td>\n",
       "      <td>3</td>\n",
       "      <td>20</td>\n",
       "      <td>0</td>\n",
       "      <td>0</td>\n",
       "      <td>...</td>\n",
       "      <td>0</td>\n",
       "      <td>0</td>\n",
       "      <td>0</td>\n",
       "      <td>1</td>\n",
       "      <td>0</td>\n",
       "      <td>0</td>\n",
       "      <td>0</td>\n",
       "      <td>1</td>\n",
       "      <td>1</td>\n",
       "      <td>0</td>\n",
       "    </tr>\n",
       "    <tr>\n",
       "      <th>17437</th>\n",
       "      <td>55</td>\n",
       "      <td>2</td>\n",
       "      <td>1</td>\n",
       "      <td>1</td>\n",
       "      <td>2</td>\n",
       "      <td>50</td>\n",
       "      <td>2</td>\n",
       "      <td>11</td>\n",
       "      <td>0</td>\n",
       "      <td>0</td>\n",
       "      <td>...</td>\n",
       "      <td>0</td>\n",
       "      <td>0</td>\n",
       "      <td>0</td>\n",
       "      <td>1</td>\n",
       "      <td>0</td>\n",
       "      <td>0</td>\n",
       "      <td>0</td>\n",
       "      <td>1</td>\n",
       "      <td>1</td>\n",
       "      <td>0</td>\n",
       "    </tr>\n",
       "    <tr>\n",
       "      <th>43834</th>\n",
       "      <td>65</td>\n",
       "      <td>1</td>\n",
       "      <td>22</td>\n",
       "      <td>7</td>\n",
       "      <td>6</td>\n",
       "      <td>43</td>\n",
       "      <td>0</td>\n",
       "      <td>16</td>\n",
       "      <td>0</td>\n",
       "      <td>0</td>\n",
       "      <td>...</td>\n",
       "      <td>0</td>\n",
       "      <td>0</td>\n",
       "      <td>1</td>\n",
       "      <td>0</td>\n",
       "      <td>0</td>\n",
       "      <td>0</td>\n",
       "      <td>1</td>\n",
       "      <td>0</td>\n",
       "      <td>0</td>\n",
       "      <td>1</td>\n",
       "    </tr>\n",
       "    <tr>\n",
       "      <th>...</th>\n",
       "      <td>...</td>\n",
       "      <td>...</td>\n",
       "      <td>...</td>\n",
       "      <td>...</td>\n",
       "      <td>...</td>\n",
       "      <td>...</td>\n",
       "      <td>...</td>\n",
       "      <td>...</td>\n",
       "      <td>...</td>\n",
       "      <td>...</td>\n",
       "      <td>...</td>\n",
       "      <td>...</td>\n",
       "      <td>...</td>\n",
       "      <td>...</td>\n",
       "      <td>...</td>\n",
       "      <td>...</td>\n",
       "      <td>...</td>\n",
       "      <td>...</td>\n",
       "      <td>...</td>\n",
       "      <td>...</td>\n",
       "      <td>...</td>\n",
       "    </tr>\n",
       "    <tr>\n",
       "      <th>26307</th>\n",
       "      <td>55</td>\n",
       "      <td>2</td>\n",
       "      <td>6</td>\n",
       "      <td>6</td>\n",
       "      <td>6</td>\n",
       "      <td>49</td>\n",
       "      <td>1</td>\n",
       "      <td>24</td>\n",
       "      <td>0</td>\n",
       "      <td>0</td>\n",
       "      <td>...</td>\n",
       "      <td>0</td>\n",
       "      <td>0</td>\n",
       "      <td>0</td>\n",
       "      <td>1</td>\n",
       "      <td>0</td>\n",
       "      <td>0</td>\n",
       "      <td>0</td>\n",
       "      <td>1</td>\n",
       "      <td>1</td>\n",
       "      <td>0</td>\n",
       "    </tr>\n",
       "    <tr>\n",
       "      <th>11117</th>\n",
       "      <td>75</td>\n",
       "      <td>5</td>\n",
       "      <td>3</td>\n",
       "      <td>17</td>\n",
       "      <td>9</td>\n",
       "      <td>22</td>\n",
       "      <td>1</td>\n",
       "      <td>25</td>\n",
       "      <td>0</td>\n",
       "      <td>0</td>\n",
       "      <td>...</td>\n",
       "      <td>0</td>\n",
       "      <td>0</td>\n",
       "      <td>0</td>\n",
       "      <td>1</td>\n",
       "      <td>0</td>\n",
       "      <td>0</td>\n",
       "      <td>0</td>\n",
       "      <td>1</td>\n",
       "      <td>1</td>\n",
       "      <td>0</td>\n",
       "    </tr>\n",
       "    <tr>\n",
       "      <th>28750</th>\n",
       "      <td>65</td>\n",
       "      <td>5</td>\n",
       "      <td>11</td>\n",
       "      <td>17</td>\n",
       "      <td>1</td>\n",
       "      <td>18</td>\n",
       "      <td>2</td>\n",
       "      <td>16</td>\n",
       "      <td>1</td>\n",
       "      <td>0</td>\n",
       "      <td>...</td>\n",
       "      <td>0</td>\n",
       "      <td>0</td>\n",
       "      <td>0</td>\n",
       "      <td>1</td>\n",
       "      <td>0</td>\n",
       "      <td>0</td>\n",
       "      <td>0</td>\n",
       "      <td>1</td>\n",
       "      <td>1</td>\n",
       "      <td>0</td>\n",
       "    </tr>\n",
       "    <tr>\n",
       "      <th>2448</th>\n",
       "      <td>65</td>\n",
       "      <td>2</td>\n",
       "      <td>1</td>\n",
       "      <td>4</td>\n",
       "      <td>2</td>\n",
       "      <td>33</td>\n",
       "      <td>5</td>\n",
       "      <td>15</td>\n",
       "      <td>0</td>\n",
       "      <td>0</td>\n",
       "      <td>...</td>\n",
       "      <td>0</td>\n",
       "      <td>0</td>\n",
       "      <td>1</td>\n",
       "      <td>0</td>\n",
       "      <td>0</td>\n",
       "      <td>0</td>\n",
       "      <td>1</td>\n",
       "      <td>0</td>\n",
       "      <td>0</td>\n",
       "      <td>1</td>\n",
       "    </tr>\n",
       "    <tr>\n",
       "      <th>326</th>\n",
       "      <td>55</td>\n",
       "      <td>2</td>\n",
       "      <td>1</td>\n",
       "      <td>4</td>\n",
       "      <td>1</td>\n",
       "      <td>35</td>\n",
       "      <td>3</td>\n",
       "      <td>7</td>\n",
       "      <td>0</td>\n",
       "      <td>0</td>\n",
       "      <td>...</td>\n",
       "      <td>0</td>\n",
       "      <td>0</td>\n",
       "      <td>0</td>\n",
       "      <td>1</td>\n",
       "      <td>0</td>\n",
       "      <td>0</td>\n",
       "      <td>0</td>\n",
       "      <td>1</td>\n",
       "      <td>1</td>\n",
       "      <td>0</td>\n",
       "    </tr>\n",
       "  </tbody>\n",
       "</table>\n",
       "<p>68636 rows × 2298 columns</p>\n",
       "</div>"
      ],
      "text/plain": [
       "       age  admission_type_id  discharge_disposition_id  admission_source_id  \\\n",
       "42237   65                  3                         1                    7   \n",
       "4937    75                  1                         6                    7   \n",
       "11119   75                  3                        18                    1   \n",
       "17437   55                  2                         1                    1   \n",
       "43834   65                  1                        22                    7   \n",
       "...    ...                ...                       ...                  ...   \n",
       "26307   55                  2                         6                    6   \n",
       "11117   75                  5                         3                   17   \n",
       "28750   65                  5                        11                   17   \n",
       "2448    65                  2                         1                    4   \n",
       "326     55                  2                         1                    4   \n",
       "\n",
       "       time_in_hospital  num_lab_procedures  num_procedures  num_medications  \\\n",
       "42237                 5                   1               2                7   \n",
       "4937                  3                  62               0               14   \n",
       "11119                10                  51               3               20   \n",
       "17437                 2                  50               2               11   \n",
       "43834                 6                  43               0               16   \n",
       "...                 ...                 ...             ...              ...   \n",
       "26307                 6                  49               1               24   \n",
       "11117                 9                  22               1               25   \n",
       "28750                 1                  18               2               16   \n",
       "2448                  2                  33               5               15   \n",
       "326                   1                  35               3                7   \n",
       "\n",
       "       number_outpatient  number_emergency  ...  rosiglitazone_Steady  \\\n",
       "42237                  0                 0  ...                     0   \n",
       "4937                   0                 0  ...                     0   \n",
       "11119                  0                 0  ...                     0   \n",
       "17437                  0                 0  ...                     0   \n",
       "43834                  0                 0  ...                     0   \n",
       "...                  ...               ...  ...                   ...   \n",
       "26307                  0                 0  ...                     0   \n",
       "11117                  0                 0  ...                     0   \n",
       "28750                  1                 0  ...                     0   \n",
       "2448                   0                 0  ...                     0   \n",
       "326                    0                 0  ...                     0   \n",
       "\n",
       "       rosiglitazone_Up  insulin_Down  insulin_No  insulin_Steady  insulin_Up  \\\n",
       "42237                 0             0           1               0           0   \n",
       "4937                  0             0           0               1           0   \n",
       "11119                 0             0           1               0           0   \n",
       "17437                 0             0           1               0           0   \n",
       "43834                 0             1           0               0           0   \n",
       "...                 ...           ...         ...             ...         ...   \n",
       "26307                 0             0           1               0           0   \n",
       "11117                 0             0           1               0           0   \n",
       "28750                 0             0           1               0           0   \n",
       "2448                  0             1           0               0           0   \n",
       "326                   0             0           1               0           0   \n",
       "\n",
       "       change_Ch  change_No  diabetesMed_No  diabetesMed_Yes  \n",
       "42237          0          1               0                1  \n",
       "4937           1          0               0                1  \n",
       "11119          0          1               1                0  \n",
       "17437          0          1               1                0  \n",
       "43834          1          0               0                1  \n",
       "...          ...        ...             ...              ...  \n",
       "26307          0          1               1                0  \n",
       "11117          0          1               1                0  \n",
       "28750          0          1               1                0  \n",
       "2448           1          0               0                1  \n",
       "326            0          1               1                0  \n",
       "\n",
       "[68636 rows x 2298 columns]"
      ]
     },
     "execution_count": 144,
     "metadata": {},
     "output_type": "execute_result"
    }
   ],
   "source": [
    "features_train"
   ]
  },
  {
   "cell_type": "code",
   "execution_count": 145,
   "id": "documented-culture",
   "metadata": {},
   "outputs": [],
   "source": [
    "scaler = MinMaxScaler()\n",
    "\n",
    "attributes_train_scaled = scaler.fit_transform(features_train)\n",
    "attributes_test_scaled = scaler.fit_transform(features_test)"
   ]
  },
  {
   "cell_type": "markdown",
   "id": "outstanding-radical",
   "metadata": {},
   "source": [
    "#### Logistic regression"
   ]
  },
  {
   "cell_type": "code",
   "execution_count": 27,
   "id": "former-party",
   "metadata": {},
   "outputs": [],
   "source": [
    "logistic_model = LogisticRegression(max_iter=2000)"
   ]
  },
  {
   "cell_type": "code",
   "execution_count": 28,
   "id": "textile-affairs",
   "metadata": {},
   "outputs": [
    {
     "data": {
      "text/plain": [
       "LogisticRegression(max_iter=2000)"
      ]
     },
     "execution_count": 28,
     "metadata": {},
     "output_type": "execute_result"
    }
   ],
   "source": [
    "logistic_model.fit(attributes_train_scaled, labels_train)"
   ]
  },
  {
   "cell_type": "code",
   "execution_count": 29,
   "id": "convenient-activation",
   "metadata": {},
   "outputs": [
    {
     "name": "stdout",
     "output_type": "stream",
     "text": [
      "              precision    recall  f1-score   support\n",
      "\n",
      "       False       0.00      0.00      0.00     15692\n",
      "        True       0.47      1.00      0.64     13724\n",
      "\n",
      "    accuracy                           0.47     29416\n",
      "   macro avg       0.23      0.50      0.32     29416\n",
      "weighted avg       0.22      0.47      0.30     29416\n",
      "\n"
     ]
    },
    {
     "name": "stderr",
     "output_type": "stream",
     "text": [
      "/opt/conda/lib/python3.8/site-packages/sklearn/metrics/_classification.py:1245: UndefinedMetricWarning: Precision and F-score are ill-defined and being set to 0.0 in labels with no predicted samples. Use `zero_division` parameter to control this behavior.\n",
      "  _warn_prf(average, modifier, msg_start, len(result))\n",
      "/opt/conda/lib/python3.8/site-packages/sklearn/metrics/_classification.py:1245: UndefinedMetricWarning: Precision and F-score are ill-defined and being set to 0.0 in labels with no predicted samples. Use `zero_division` parameter to control this behavior.\n",
      "  _warn_prf(average, modifier, msg_start, len(result))\n",
      "/opt/conda/lib/python3.8/site-packages/sklearn/metrics/_classification.py:1245: UndefinedMetricWarning: Precision and F-score are ill-defined and being set to 0.0 in labels with no predicted samples. Use `zero_division` parameter to control this behavior.\n",
      "  _warn_prf(average, modifier, msg_start, len(result))\n"
     ]
    }
   ],
   "source": [
    "print(classification_report(labels_test, logistic_model.predict(features_test)))"
   ]
  },
  {
   "cell_type": "markdown",
   "id": "previous-export",
   "metadata": {},
   "source": [
    "#### Linear SVC"
   ]
  },
  {
   "cell_type": "code",
   "execution_count": 30,
   "id": "convinced-magnet",
   "metadata": {},
   "outputs": [],
   "source": [
    "linear_svc = LinearSVC(max_iter=2000)"
   ]
  },
  {
   "cell_type": "code",
   "execution_count": 31,
   "id": "lightweight-simpson",
   "metadata": {},
   "outputs": [
    {
     "data": {
      "text/plain": [
       "LinearSVC(max_iter=2000)"
      ]
     },
     "execution_count": 31,
     "metadata": {},
     "output_type": "execute_result"
    }
   ],
   "source": [
    "linear_svc.fit(attributes_train_scaled, labels_train)"
   ]
  },
  {
   "cell_type": "code",
   "execution_count": 32,
   "id": "downtown-space",
   "metadata": {},
   "outputs": [
    {
     "name": "stdout",
     "output_type": "stream",
     "text": [
      "              precision    recall  f1-score   support\n",
      "\n",
      "       False       0.00      0.00      0.00     15692\n",
      "        True       0.47      1.00      0.64     13724\n",
      "\n",
      "    accuracy                           0.47     29416\n",
      "   macro avg       0.23      0.50      0.32     29416\n",
      "weighted avg       0.22      0.47      0.30     29416\n",
      "\n"
     ]
    },
    {
     "name": "stderr",
     "output_type": "stream",
     "text": [
      "/opt/conda/lib/python3.8/site-packages/sklearn/metrics/_classification.py:1245: UndefinedMetricWarning: Precision and F-score are ill-defined and being set to 0.0 in labels with no predicted samples. Use `zero_division` parameter to control this behavior.\n",
      "  _warn_prf(average, modifier, msg_start, len(result))\n",
      "/opt/conda/lib/python3.8/site-packages/sklearn/metrics/_classification.py:1245: UndefinedMetricWarning: Precision and F-score are ill-defined and being set to 0.0 in labels with no predicted samples. Use `zero_division` parameter to control this behavior.\n",
      "  _warn_prf(average, modifier, msg_start, len(result))\n",
      "/opt/conda/lib/python3.8/site-packages/sklearn/metrics/_classification.py:1245: UndefinedMetricWarning: Precision and F-score are ill-defined and being set to 0.0 in labels with no predicted samples. Use `zero_division` parameter to control this behavior.\n",
      "  _warn_prf(average, modifier, msg_start, len(result))\n"
     ]
    }
   ],
   "source": [
    "print(classification_report(labels_test, linear_svc.predict(features_test)))"
   ]
  },
  {
   "cell_type": "markdown",
   "id": "prime-wellington",
   "metadata": {},
   "source": [
    "#### Gaussian SVC"
   ]
  },
  {
   "cell_type": "code",
   "execution_count": 33,
   "id": "inclusive-order",
   "metadata": {},
   "outputs": [],
   "source": [
    "svc = SVC(max_iter=3000)"
   ]
  },
  {
   "cell_type": "code",
   "execution_count": 35,
   "id": "beginning-folks",
   "metadata": {},
   "outputs": [
    {
     "name": "stderr",
     "output_type": "stream",
     "text": [
      "/opt/conda/lib/python3.8/site-packages/sklearn/svm/_base.py:255: ConvergenceWarning: Solver terminated early (max_iter=3000).  Consider pre-processing your data with StandardScaler or MinMaxScaler.\n",
      "  warnings.warn('Solver terminated early (max_iter=%i).'\n"
     ]
    },
    {
     "data": {
      "text/plain": [
       "SVC(max_iter=3000)"
      ]
     },
     "execution_count": 35,
     "metadata": {},
     "output_type": "execute_result"
    }
   ],
   "source": [
    "svc.fit(attributes_train_scaled, labels_train)"
   ]
  },
  {
   "cell_type": "code",
   "execution_count": 36,
   "id": "funded-spread",
   "metadata": {},
   "outputs": [
    {
     "name": "stdout",
     "output_type": "stream",
     "text": [
      "              precision    recall  f1-score   support\n",
      "\n",
      "       False       0.53      1.00      0.70     15692\n",
      "        True       0.00      0.00      0.00     13724\n",
      "\n",
      "    accuracy                           0.53     29416\n",
      "   macro avg       0.27      0.50      0.35     29416\n",
      "weighted avg       0.28      0.53      0.37     29416\n",
      "\n"
     ]
    },
    {
     "name": "stderr",
     "output_type": "stream",
     "text": [
      "/opt/conda/lib/python3.8/site-packages/sklearn/metrics/_classification.py:1245: UndefinedMetricWarning: Precision and F-score are ill-defined and being set to 0.0 in labels with no predicted samples. Use `zero_division` parameter to control this behavior.\n",
      "  _warn_prf(average, modifier, msg_start, len(result))\n",
      "/opt/conda/lib/python3.8/site-packages/sklearn/metrics/_classification.py:1245: UndefinedMetricWarning: Precision and F-score are ill-defined and being set to 0.0 in labels with no predicted samples. Use `zero_division` parameter to control this behavior.\n",
      "  _warn_prf(average, modifier, msg_start, len(result))\n",
      "/opt/conda/lib/python3.8/site-packages/sklearn/metrics/_classification.py:1245: UndefinedMetricWarning: Precision and F-score are ill-defined and being set to 0.0 in labels with no predicted samples. Use `zero_division` parameter to control this behavior.\n",
      "  _warn_prf(average, modifier, msg_start, len(result))\n"
     ]
    }
   ],
   "source": [
    "print(classification_report(labels_test, svc.predict(features_test)))"
   ]
  },
  {
   "cell_type": "markdown",
   "id": "popular-norway",
   "metadata": {},
   "source": [
    "#### Random Forest"
   ]
  },
  {
   "cell_type": "code",
   "execution_count": 37,
   "id": "adjustable-watch",
   "metadata": {},
   "outputs": [],
   "source": [
    "rfm = RandomForestClassifier()"
   ]
  },
  {
   "cell_type": "code",
   "execution_count": 39,
   "id": "pursuant-victor",
   "metadata": {},
   "outputs": [
    {
     "data": {
      "text/plain": [
       "RandomForestClassifier()"
      ]
     },
     "execution_count": 39,
     "metadata": {},
     "output_type": "execute_result"
    }
   ],
   "source": [
    "rfm.fit(attributes_train_scaled, labels_train)"
   ]
  },
  {
   "cell_type": "code",
   "execution_count": 40,
   "id": "contrary-monroe",
   "metadata": {},
   "outputs": [
    {
     "name": "stdout",
     "output_type": "stream",
     "text": [
      "              precision    recall  f1-score   support\n",
      "\n",
      "       False       0.56      0.88      0.68     15692\n",
      "        True       0.60      0.21      0.31     13724\n",
      "\n",
      "    accuracy                           0.57     29416\n",
      "   macro avg       0.58      0.54      0.50     29416\n",
      "weighted avg       0.58      0.57      0.51     29416\n",
      "\n"
     ]
    }
   ],
   "source": [
    "print(classification_report(labels_test, rfm.predict(features_test)))"
   ]
  },
  {
   "cell_type": "markdown",
   "id": "removable-provision",
   "metadata": {},
   "source": [
    "#### Gradient Boosting"
   ]
  },
  {
   "cell_type": "code",
   "execution_count": 41,
   "id": "ceramic-bosnia",
   "metadata": {},
   "outputs": [],
   "source": [
    "gbm = GradientBoostingClassifier() "
   ]
  },
  {
   "cell_type": "code",
   "execution_count": 42,
   "id": "square-somerset",
   "metadata": {},
   "outputs": [
    {
     "data": {
      "text/plain": [
       "GradientBoostingClassifier()"
      ]
     },
     "execution_count": 42,
     "metadata": {},
     "output_type": "execute_result"
    }
   ],
   "source": [
    "gbm.fit(attributes_train_scaled, labels_train)"
   ]
  },
  {
   "cell_type": "code",
   "execution_count": 46,
   "id": "tough-partnership",
   "metadata": {},
   "outputs": [
    {
     "name": "stdout",
     "output_type": "stream",
     "text": [
      "              precision    recall  f1-score   support\n",
      "\n",
      "       False       0.62      0.69      0.65     15692\n",
      "        True       0.59      0.52      0.55     13724\n",
      "\n",
      "    accuracy                           0.61     29416\n",
      "   macro avg       0.61      0.60      0.60     29416\n",
      "weighted avg       0.61      0.61      0.61     29416\n",
      "\n"
     ]
    }
   ],
   "source": [
    "print(classification_report(labels_test, gbm.predict(features_test)))"
   ]
  },
  {
   "cell_type": "code",
   "execution_count": null,
   "id": "c3bed809",
   "metadata": {},
   "outputs": [],
   "source": [
    "print('F1 Score (micro)')\n",
    "\n",
    "print(' ')\n",
    "\n",
    "print('Logistic Regression Performance: ', metrics.f1_score(labels_test, logistic_model.predict(features_test),average='micro'))\n",
    "\n",
    "print('Linear SVM Performance: ', metrics.f1_score(labels_test, linear_svc.predict(features_test),average='micro'))\n",
    "\n",
    "print('SVM Performance: ', metrics.f1_score(labels_test, svc.predict(features_test),average='micro'))\n",
    "\n",
    "print('Random Forest Performance: ', metrics.f1_score(labels_test, rfm.predict(features_test),average='micro'))\n",
    "\n",
    "print('Gradient Boost Performance: ', metrics.f1_score(labels_test, gbm.predict(features_test),average='micro'))"
   ]
  },
  {
   "cell_type": "markdown",
   "id": "worst-channel",
   "metadata": {},
   "source": [
    "## Gradient Boost"
   ]
  },
  {
   "cell_type": "code",
   "execution_count": null,
   "id": "antique-polyester",
   "metadata": {},
   "outputs": [],
   "source": [
    "param_test1 = {'n_estimators': [32, 64, 100, 200]}\n",
    "gsearch1 = GridSearchCV(estimator = GradientBoostingClassifier(learning_rate=0.1, \n",
    "                                                               min_samples_split=400, \n",
    "                                                               min_samples_leaf=50,\n",
    "                                                               max_depth=8)\n",
    "                       param_grid = param_test1, scoring='f1_micro',n_jobs=4, cv=3)\n",
    "gsearch1.fit(X_train,y_train)"
   ]
  },
  {
   "cell_type": "code",
   "execution_count": null,
   "id": "historic-yukon",
   "metadata": {},
   "outputs": [],
   "source": [
    "gsearch1.best_params_, gsearch1.best_score_"
   ]
  },
  {
   "cell_type": "code",
   "execution_count": null,
   "id": "compact-relief",
   "metadata": {},
   "outputs": [],
   "source": [
    "param_test2 = {'max_depth':np.linspace(1, 32, 32, endpoint=True)}\n",
    "gsearch2 = GridSearchCV(estimator = GradientBoostingClassifier(learning_rate=0.1, n_estimators=70,\n",
    "                                                max_features='sqrt', subsample=0.8, random_state=101), \n",
    "                       param_grid = param_test2, scoring='f1_micro',n_jobs=4,iid=False, cv=5)\n",
    "gsearch2.fit(X_train,y_train)"
   ]
  },
  {
   "cell_type": "code",
   "execution_count": null,
   "id": "d68212fc",
   "metadata": {},
   "outputs": [],
   "source": [
    "gsearch2.best_params_, gsearch2.best_score_"
   ]
  },
  {
   "cell_type": "code",
   "execution_count": null,
   "id": "1899e04e",
   "metadata": {},
   "outputs": [],
   "source": [
    "param_test3 = {'min_samples_split':np.linspace(0.1, 1.0, 10, endpoint=True)}\n",
    "gsearch3 = GridSearchCV(estimator = GradientBoostingClassifier(learning_rate=0.1, n_estimators=70,\n",
    "                                                max_features='sqrt', subsample=0.8, random_state=101), \n",
    "                       param_grid = param_test3, scoring='f1_micro',n_jobs=4,iid=False, cv=5)\n",
    "gsearch3.fit(X_train,y_train)"
   ]
  },
  {
   "cell_type": "code",
   "execution_count": null,
   "id": "c52858ed",
   "metadata": {},
   "outputs": [],
   "source": [
    "gsearch3.best_params_, gsearch2.best_score_"
   ]
  },
  {
   "cell_type": "code",
   "execution_count": null,
   "id": "99536012",
   "metadata": {},
   "outputs": [],
   "source": [
    "param_test4 = {'max_features':list(range(1000, 1100, 1400, 1800, 2000))}\n",
    "gsearch4 = GridSearchCV(estimator = GradientBoostingClassifier(learning_rate=0.1, n_estimators=70,max_depth=12, \n",
    "                            min_samples_split=800, min_samples_leaf=70, subsample=0.8, random_state=101),\n",
    "                       param_grid = param_test4, scoring='f1_micro',n_jobs=4,iid=False, cv=5)\n",
    "gsearch4.fit(X_train,y_train)"
   ]
  },
  {
   "cell_type": "code",
   "execution_count": null,
   "id": "c1e91534",
   "metadata": {},
   "outputs": [],
   "source": [
    "gsearch3.best_params_, gsearch2.best_score_"
   ]
  },
  {
   "cell_type": "code",
   "execution_count": null,
   "id": "2cdc4868",
   "metadata": {},
   "outputs": [],
   "source": [
    "gbm1 = GradientBoostingClassifier(max_depth=12, max_features=18, min_samples_leaf=70,\n",
    "                           min_samples_split=800, n_estimators=70,\n",
    "                           random_state=101, subsample=0.8) \n",
    "gbm1.fit(attributes_train_scaled, labels_train)\n",
    "gbm1_pred = gbm1.predict(attributes_test_scaled)\n",
    "\n",
    "print('F1 Score micro        : ', metrics.f1_score(labels_test, gbm1_pred,average='micro'))\n",
    "print('F1 Score macro        : ', metrics.f1_score(labels_test, gbm1_pred,average='macro'))"
   ]
  },
  {
   "cell_type": "code",
   "execution_count": null,
   "id": "06386877",
   "metadata": {},
   "outputs": [],
   "source": [
    "feat_importances = pd.Series(gbm1.feature_importances_, index=features_train.columns)\n",
    "feat_importances.nlargest(20).plot(kind='barh')\n",
    "plt.show()"
   ]
  },
  {
   "cell_type": "code",
   "execution_count": null,
   "id": "4a37dc30",
   "metadata": {},
   "outputs": [],
   "source": []
  }
 ],
 "metadata": {
  "kernelspec": {
   "display_name": "Python 3",
   "language": "python",
   "name": "python3"
  },
  "language_info": {
   "codemirror_mode": {
    "name": "ipython",
    "version": 3
   },
   "file_extension": ".py",
   "mimetype": "text/x-python",
   "name": "python",
   "nbconvert_exporter": "python",
   "pygments_lexer": "ipython3",
   "version": "3.8.8"
  }
 },
 "nbformat": 4,
 "nbformat_minor": 5
}
